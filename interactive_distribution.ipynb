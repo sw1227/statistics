{
 "cells": [
  {
   "cell_type": "markdown",
   "metadata": {},
   "source": [
    "Pythonで確率分布をプロットする（interactive版）\n",
    "======\n",
    "***\n",
    "\n",
    "## 1. 準備\n",
    "---"
   ]
  },
  {
   "cell_type": "code",
   "execution_count": 1,
   "metadata": {
    "collapsed": true
   },
   "outputs": [],
   "source": [
    "import numpy as np\n",
    "import scipy.stats as stats\n",
    "from IPython.core.pylabtools import figsize\n",
    "from ipywidgets import interact\n",
    "from matplotlib import pyplot as plt\n",
    "%matplotlib inline\n",
    "figsize(12, 6)\n",
    "\n",
    "# matplotlibでTexをラベルに使うため\n",
    "from matplotlib import rc\n",
    "rc('font', size=14)\n",
    "rc('text', usetex=True)"
   ]
  },
  {
   "cell_type": "markdown",
   "metadata": {},
   "source": [
    "## 2. 離散型確率分布\n",
    "---"
   ]
  },
  {
   "cell_type": "markdown",
   "metadata": {},
   "source": [
    "### 2.0. 離散型確率分布の確率質量関数PMFと累積分布関数CDFをプロットする関数"
   ]
  },
  {
   "cell_type": "code",
   "execution_count": 2,
   "metadata": {
    "collapsed": false
   },
   "outputs": [],
   "source": [
    "def plot_discrete(func, k_max=20):\n",
    "    \"\"\" 与えられた離散型確率分布関数のPMFとCDFをプロットする\n",
    "        - func: 離散型確率分布関数(scipy.stats.distributions.rv_frozen)\n",
    "        - k_max: 横軸(確率変数)の最大値(0からk_maxまでプロット)\n",
    "    \"\"\"\n",
    "    # 横軸\n",
    "    k = np.arange(k_max)\n",
    "    \n",
    "    # 確率質量関数PMF\n",
    "    plt.bar(k, func.pmf(k), color=\"blue\", width=1.0, lw=\"2\", edgecolor=\"blue\",label=\"Probability mass function\", alpha=0.3)\n",
    "    \n",
    "    # 累積分布関数CDF\n",
    "    plt.step(k, func.cdf(k), color=\"orange\", lw=\"2\", label=\"Cumulative distribution function\", alpha=0.8)\n",
    "\n",
    "    # グラフ設定\n",
    "    plt.grid()\n",
    "    plt.legend(loc=\"upper left\", frameon=False)\n",
    "    plt.xticks(k) # 横軸の目盛り\n",
    "    plt.ylim((0.0, 1.0))\n",
    "    plt.xlabel(\"$k$\")\n",
    "    plt.ylabel(\"$P(X=k), \\:\\: P(X \\leq k)$\")"
   ]
  },
  {
   "cell_type": "markdown",
   "metadata": {},
   "source": [
    "### 2.1. ポアソン分布（Poisson distribution）"
   ]
  },
  {
   "cell_type": "code",
   "execution_count": 3,
   "metadata": {
    "collapsed": false
   },
   "outputs": [
    {
     "data": {
      "image/png": "[encoded data removed]",
      "text/plain": [
       "<matplotlib.figure.Figure at 0x7f26822e82d0>"
      ]
     },
     "metadata": {},
     "output_type": "display_data"
    }
   ],
   "source": [
    "@interact(lambda_=(0.0, 10.0), k_max=(10, 20))\n",
    "def plot_poisson(lambda_, k_max):\n",
    "    plot_discrete(stats.poisson(lambda_), k_max)\n",
    "    plt.title(\"Poisson distribution: $\\lambda = %.1f$\" % lambda_)\n",
    "\n",
    "# 以下のように1行でも記述できるが、読みやすさを優先した\n",
    "# interact(lambda l, k_max: plot_discrete(stats.poisson(l), k_max), l=(0.0, 10.0), k_max=(10,20))"
   ]
  },
  {
   "cell_type": "code",
   "execution_count": null,
   "metadata": {
    "collapsed": true
   },
   "outputs": [],
   "source": []
  },
  {
   "cell_type": "markdown",
   "metadata": {},
   "source": [
    "## 3. 連続型確率分布\n",
    "---"
   ]
  },
  {
   "cell_type": "markdown",
   "metadata": {},
   "source": [
    "### 3.0. 連続型確率分布の確率密度関数PDFと累積分布関数CDFをプロットする関数"
   ]
  },
  {
   "cell_type": "code",
   "execution_count": 4,
   "metadata": {
    "collapsed": true
   },
   "outputs": [],
   "source": [
    "def plot_continuous(func, x_max=5):\n",
    "    \"\"\" 与えられた連続型確率分布関数のPDFとCDFをプロットする\n",
    "        - func: 連続型確率分布関数(scipy.stats.distributions.rv_frozen)\n",
    "        - x_max: 横軸の幅(-x_maxから+x_maxまでプロット)\n",
    "    \"\"\"\n",
    "    # 横軸\n",
    "    x = np.linspace(-x_max, x_max, 100)\n",
    "    \n",
    "    # 確率密度関数PDF\n",
    "    plt.plot(x, func.pdf(x), color=\"blue\", lw=\"2\", label=\"Probability density function\", alpha=0.6)\n",
    "    plt.fill_between(x, func.pdf(x), color=\"blue\", alpha=0.3)\n",
    "    \n",
    "    # 累積分布関数CDF\n",
    "    plt.plot(x, func.cdf(x), lw=\"2\", color=\"orange\", label=\"Cumulative distribution function\", alpha=0.6)\n",
    "\n",
    "    # グラフ設定\n",
    "    plt.grid()\n",
    "    plt.legend(loc=\"upper left\", frameon=False)\n",
    "    plt.xticks(np.arange(-x_max, x_max+1)) # 横軸の目盛り\n",
    "    plt.ylim((0.0, 1.0))\n",
    "    plt.xlabel(\"$x$\")\n",
    "    plt.ylabel(\"$f(x), \\:\\: F(x)$\")"
   ]
  },
  {
   "cell_type": "markdown",
   "metadata": {},
   "source": [
    "### 3.1. 正規分布（Normal distribution）"
   ]
  },
  {
   "cell_type": "code",
   "execution_count": 6,
   "metadata": {
    "collapsed": false
   },
   "outputs": [
    {
     "data": {
      "image/png": "[encoded data removed]",
      "text/plain": [
       "<matplotlib.figure.Figure at 0x7f2680152910>"
      ]
     },
     "metadata": {},
     "output_type": "display_data"
    }
   ],
   "source": [
    "@interact(mu=(-2.0, 2.0), sigma2=(0.0, 2.0), x_max=(1, 10))\n",
    "def plot_poisson(mu, sigma2, x_max):\n",
    "    plot_continuous(stats.norm(mu, sigma2), x_max)\n",
    "    plt.title(\"Normal distribution: $ \\mu = %.1f,\\: \\sigma ^2 = %.1f$\" % (mu, sigma2))\n",
    "    \n",
    "# 以下のように1行でも記述できるが、読みやすさを優先した\n",
    "#interact(lambda mu, sigma2, x_max: plot_continuous(stats.norm(mu, sigma2), x_max), mu=(-2.0, 2.0), sigma2=(0.0, 2.0), x_max=(1, 10))"
   ]
  },
  {
   "cell_type": "code",
   "execution_count": null,
   "metadata": {
    "collapsed": true
   },
   "outputs": [],
   "source": []
  }
 ],
 "metadata": {
  "kernelspec": {
   "display_name": "Python 2",
   "language": "python",
   "name": "python2"
  },
  "language_info": {
   "codemirror_mode": {
    "name": "ipython",
    "version": 2
   },
   "file_extension": ".py",
   "mimetype": "text/x-python",
   "name": "python",
   "nbconvert_exporter": "python",
   "pygments_lexer": "ipython2",
   "version": "2.7.6"
  },
  "toc": {
   "colors": {
    "hover_highlight": "#DAA520",
    "running_highlight": "#FF0000",
    "selected_highlight": "#FFD700"
   },
   "moveMenuLeft": true,
   "nav_menu": {
    "height": "98px",
    "width": "252px"
   },
   "navigate_menu": true,
   "number_sections": false,
   "sideBar": true,
   "threshold": 4,
   "toc_cell": false,
   "toc_section_display": "block",
   "toc_window_display": false
  },
  "widgets": {
   "state": {
    "00d417b49f23469b9967b3b25a04d697": {
     "views": []
    },
    "011233313bd24d6a8a454e92195e791d": {
     "views": []
    },
    "015549fd4e834fd8b77bf1f8bd2067af": {
     "views": []
    },
    "01e3e3463ebc45bfa42b18bf7b7d20c0": {
     "views": []
    },
    "0220a2e2a7b34ee086baae383f6e6f34": {
     "views": []
    },
    "0252f31cf5d84c379e7632520e292648": {
     "views": []
    },
    "02b6be08a087429d8730c5299324426d": {
     "views": []
    },
    "02ff2f38743b4a87b8d45396ba483576": {
     "views": []
    },
    "038c945b586d489692b24fc993b5a905": {
     "views": []
    },
    "040d253efc314e6184b336dc3d0a659d": {
     "views": []
    },
    "042fdc2cf3924613add648f152c3b18c": {
     "views": []
    },
    "052e561b30fb43a8a5db5e7649521822": {
     "views": []
    },
    "055a190be3344fc2954f8695ce5cf4b8": {
     "views": []
    },
    "05b0bd3efc8d4145b3273589881d846b": {
     "views": []
    },
    "05de7f009ecf4efc8b1a14415969e707": {
     "views": []
    },
    "05fcf02c85bf4a65a3f2ea0da87c9ad4": {
     "views": []
    },
    "065ce68ebef34696a2df691b8e4b9c91": {
     "views": []
    },
    "06a8bdcdc1b849279144403cd13041fe": {
     "views": []
    },
    "078f79dd1d0948aaac5d6100a2012d4b": {
     "views": []
    },
    "0815d0703b914778a9f9d7819b8b9be2": {
     "views": []
    },
    "0864c782a27644568e527c946c21d1ec": {
     "views": []
    },
    "089206c90b294b24a3a3347c74abd45d": {
     "views": []
    },
    "08afa52877824a84817a66b10a4a8d15": {
     "views": []
    },
    "0910c75d81d24dfdae44c10d48ddf4f5": {
     "views": []
    },
    "09a429006f8c4f359b176431b234c1c6": {
     "views": []
    },
    "09cca74c13ca432c90a02e7c2bf14754": {
     "views": []
    },
    "0a43b07f3ea245828f34652740181542": {
     "views": []
    },
    "0b77f82c71744ff8a3ea886f1818d0a1": {
     "views": []
    },
    "0be0eaafc240423baf50caf8918f0f6e": {
     "views": []
    },
    "0c7b43c762034ee78c01c040d95f7605": {
     "views": []
    },
    "0d785516aca74e7bb8d1a06f67a31c24": {
     "views": []
    },
    "0dedea6f80794affbc10f507218d1ed5": {
     "views": []
    },
    "0ebffd0ecbf340d9915da1403bf409ab": {
     "views": []
    },
    "0fe6d3bc9ba846ea8cbc6891c55f80a4": {
     "views": []
    },
    "112e9bd2d7cd4df8b91a48c77f217933": {
     "views": []
    },
    "117ea7c3786a416fb2fc8f7cc410befd": {
     "views": []
    },
    "129899f0fdc54c88acf38c165ce50ea4": {
     "views": []
    },
    "13501dd420424b1596d4770aa010f039": {
     "views": []
    },
    "135c61f14825432b840de5dcb3161fed": {
     "views": []
    },
    "138c60a68b134f92b62cb18d4c26d117": {
     "views": []
    },
    "13fbfb698f294096a00823a7dcc4a4e9": {
     "views": []
    },
    "14b63125eec7443ca451c406e4329471": {
     "views": []
    },
    "177f755a502f4bd8bf390aed90b66ccc": {
     "views": []
    },
    "18664b72d13942c0b12036599a142ada": {
     "views": []
    },
    "1922afa53021497998c5d0682e7590af": {
     "views": []
    },
    "192cd3646f0842cc92af6fef006ae5d8": {
     "views": []
    },
    "1967dd179ddd49ab8f1827d375d48c41": {
     "views": []
    },
    "1996a0c0e1704ae282da530464cc7d0b": {
     "views": [
      {
       "cell": {
        "cell_type": "code",
        "execution_count": 3,
        "metadata": {
         "collapsed": false,
         "trusted": true
        },
        "outputs": [
         {
          "data": {
           "image/png": "iVBORw0KGgoAAAANSUhEUgAAAtQAAAGQCAYAAACODPcXAAAABHNCSVQICAgIfAhkiAAAAAlwSFlz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\ngg==\n",
           "text/plain": "<matplotlib.figure.Figure at 0x7f26822e82d0>"
          },
          "metadata": {},
          "output_type": "display_data"
         }
        ],
        "source": "@interact(lambda_=(0.0, 10.0), k_max=(10, 20))\ndef plot_poisson(lambda_, k_max):\n    plot_discrete(stats.poisson(lambda_), k_max)\n    plt.title(\"Poisson distribution: $\\lambda = %.1f$\" % lambda_)\n\n# 以下のように1行でも記述できるが、読みやすさを優先した\n# interact(lambda l, k_max: plot_discrete(stats.poisson(l), k_max), l=(0.0, 10.0), k_max=(10,20))"
       },
       "cell_index": 6,
       "root": true
      }
     ]
    },
    "19ee5a92830041ea98a3cae4e9121e3a": {
     "views": []
    },
    "1a3630635a9b4b36aaedc9ef2018845c": {
     "views": []
    },
    "1a904bb23beb43b1b682f1015ca61207": {
     "views": []
    },
    "1b37bd4539074a8bb99e12785722b3b8": {
     "views": []
    },
    "1b4f3771adcd4a059606441866b46b1a": {
     "views": []
    },
    "1bd81c0ad7244ecb867f0d4510dc52a1": {
     "views": []
    },
    "1c1323682c3c4208bfee52f30c1dcd2c": {
     "views": []
    },
    "1c3637e9f5cb45979057777273786c6a": {
     "views": []
    },
    "1c8cb70a20d34e1f865542f76e9a62a1": {
     "views": []
    },
    "1ca61bbf48ec44d3ba1e630108fca5d5": {
     "views": []
    },
    "1d86ce4e8bd04e8b89e6d982b9f611cd": {
     "views": []
    },
    "1e149fc4fa2e408693c1628680dd6612": {
     "views": []
    },
    "1eb1da51380b41b4b44075b0747e1bd2": {
     "views": []
    },
    "1edd81a83bca42c986bb6c60db061fba": {
     "views": []
    },
    "20a5a2bbfc8b4b9db6dbe333b99ce50b": {
     "views": []
    },
    "20b919b440f74071917671b35bf5ce6b": {
     "views": []
    },
    "20dacc2380f94c14a84a41784e9bd53a": {
     "views": []
    },
    "21a3371917004fbfa7368ae0d74654d8": {
     "views": []
    },
    "21c75223924340b5a7c994c73bda735a": {
     "views": []
    },
    "22668aaa867a47ce9db1331597ba67df": {
     "views": []
    },
    "22b179f940f242199a50c59e9e47d5ce": {
     "views": []
    },
    "2330f3629eae4beb9388b18513b8d3b5": {
     "views": []
    },
    "2465ff22f8644b2895f90c5308ca2d8a": {
     "views": []
    },
    "2484d24c6b254797b2e1fbfeedd95d11": {
     "views": []
    },
    "259099b8f25947e38c9070f78716af7c": {
     "views": []
    },
    "269317bf75bd4a4a91df4150ce8555d8": {
     "views": []
    },
    "26ea2218c6ac43c7ad28d64f96dcdc3c": {
     "views": []
    },
    "27291cf25e444ac6b2ef4824fda14223": {
     "views": []
    },
    "281dcafd1d49462c84d619f3d9fa699c": {
     "views": []
    },
    "29670ad8ab0a4e97909ee889c2a38222": {
     "views": []
    },
    "2a30b06e49f749cea54609cb7d71f783": {
     "views": []
    },
    "2b238fcd07214a4ea478c9d0f0414e1e": {
     "views": []
    },
    "2b51a13237dd47a8b13072aac4cb3e4c": {
     "views": []
    },
    "2c4e474a60d244eba049ed2b58d4beb8": {
     "views": []
    },
    "2ce1ce0ab5384798a8e6659d11c7e239": {
     "views": []
    },
    "2d58962bac3446e687209493bc03ecff": {
     "views": []
    },
    "2d91d86e4cfd4ed3b5d5dcfde0fb85f2": {
     "views": []
    },
    "2d9941cf01ef4cd384f843d6ef33b5cc": {
     "views": []
    },
    "2f1afbb1011c4bd19643575a94f57f8d": {
     "views": []
    },
    "2f48c5bd58934a45a12c593db4505f82": {
     "views": []
    },
    "303f6b19fb674e41b3f5f31019ac567f": {
     "views": []
    },
    "31010fa3bad34dcab535e0bd5020b95f": {
     "views": []
    },
    "31282f2ded2e4c6389153b1335ebfc06": {
     "views": []
    },
    "326a9d99830742edbf6c19971a17ab1d": {
     "views": []
    },
    "3457a06ba95c4b749901a02dc7c428b1": {
     "views": []
    },
    "3584b022cdfd4d2f8d7aba8f64dff5ce": {
     "views": []
    },
    "358d4d2f9e7b456fb95645e72eae3846": {
     "views": []
    },
    "36d44992c67346cbaf110b2ca1181836": {
     "views": []
    },
    "37635aaeb77f4deb92d6183de7d03d3b": {
     "views": []
    },
    "3881d7dcb9a04500a782a2f5da7d8ab8": {
     "views": []
    },
    "39f8c66efc524c558c2c4ff0767a610f": {
     "views": []
    },
    "3a88b3b13fc54350b4904fa210210ac1": {
     "views": []
    },
    "3b273a07ced1400eaaeb3d09bdcb24b6": {
     "views": []
    },
    "3b4b6a22fc1948fe9040a77cd69107c2": {
     "views": []
    },
    "3cba7bd2aa2f4e3695f8a168a79e79f7": {
     "views": []
    },
    "3da4f6f4af804046aa7b090ae41db6ea": {
     "views": []
    },
    "3eea9a21a0c6490bbccf27b4e6df11dc": {
     "views": []
    },
    "3fd23a43f9834f8cbb615b835c01c5a6": {
     "views": []
    },
    "3fde7ec8b3a447e4b5454c17697c5542": {
     "views": []
    },
    "412758a34a7148d8a8c53ce02628162a": {
     "views": []
    },
    "41ee6e30bfde4bcc97fd5699fd4ac860": {
     "views": []
    },
    "4442d93d729e431a89e3878ad2dfbc2f": {
     "views": []
    },
    "4543c65117e5445489c9e7e34c41ea26": {
     "views": []
    },
    "45e407a9e29e4742aba26d5416760d19": {
     "views": []
    },
    "4667d0671a2441bdbaa7e001158fde39": {
     "views": []
    },
    "476ab73338b24c24abd6ab9c9c291e9c": {
     "views": []
    },
    "48c03c9fd64343da94f0f74396d4439b": {
     "views": []
    },
    "49903316bea5406fbbc84394baaba298": {
     "views": []
    },
    "49e2c522f6d342aba6c8e51026633489": {
     "views": []
    },
    "4a1141830700482bbc4586ce55134e16": {
     "views": []
    },
    "4abacb806f184cbb8327deecb1aa8139": {
     "views": []
    },
    "4addf7b5d7b1410e9de9797771c71ef1": {
     "views": []
    },
    "4cff4ce649b94448a4b1d41457fca675": {
     "views": []
    },
    "4d06938c15294e75a662bb8d827e1146": {
     "views": []
    },
    "4d6e8113b1d143a6b7792480f8b1ca47": {
     "views": []
    },
    "4d70ffb57e40489a894f5764ac8ea699": {
     "views": []
    },
    "4e6fd55ecd3740fa86c380eafdd37834": {
     "views": []
    },
    "4e9c0afe8b064052b143e932a0df4383": {
     "views": []
    },
    "4f95c78dbe7646229cd9570724a67dd0": {
     "views": []
    },
    "50cb49667e774e228b1f33cb16e0d76c": {
     "views": []
    },
    "50ee1096232141d6985654cd40fd4f17": {
     "views": []
    },
    "529a085c5d484429a1deffd7d64d1bcd": {
     "views": []
    },
    "5486daeee6184dc0bc68745a7dccdd31": {
     "views": []
    },
    "559a30a6a4dd429094fd248c90e41daa": {
     "views": []
    },
    "55b2dde1874b4937a7acb27824992f59": {
     "views": []
    },
    "55d916dad08641c0ae8b798f7d63301e": {
     "views": []
    },
    "55e9c6deac0842d98d1685207517c6d1": {
     "views": []
    },
    "56df61c100bd4efcb18fd714c5e78079": {
     "views": []
    },
    "56e9c4f24a204ce7af559b4dbad7d7e2": {
     "views": []
    },
    "56f9bfbe768b4ac78e6d40b8dd5d735f": {
     "views": []
    },
    "5738d4ba786c4b75a3378caa7c25cfb8": {
     "views": []
    },
    "581fb41afc6c4892aec8655c7927f7d5": {
     "views": []
    },
    "58616b3d04f14f3da9706cba63984bb7": {
     "views": []
    },
    "58bbfdd93d4b4522bf9b301d81c27270": {
     "views": []
    },
    "58f7f5041bbd4faf84493ff4aa4b4ead": {
     "views": []
    },
    "595009f46a7a40d396a17d53876ef81f": {
     "views": []
    },
    "5bf4b9ac7ed343a5808703513a8da508": {
     "views": []
    },
    "5df9794c231b4d238575c92ec689a233": {
     "views": []
    },
    "5e8e4d11e74943ad9395781333c73c39": {
     "views": []
    },
    "602c3573c1524fe2ba4141b4a086aa51": {
     "views": []
    },
    "607e6584d6684fbd8b062b37a2fb113c": {
     "views": []
    },
    "60805d12805c496da717b7d6ed416ab0": {
     "views": []
    },
    "610dd380dd204af495be732f72d97b5d": {
     "views": []
    },
    "61409435e986466d92c62e35912990da": {
     "views": []
    },
    "61e9b866ce924ed3bc2d19580e50c1e7": {
     "views": []
    },
    "61fe2c583cd945f989714dfa406d67dd": {
     "views": []
    },
    "63231da932e14224a1ca5a94451138bc": {
     "views": []
    },
    "650388a9908542b0ac08ea35bf88bc00": {
     "views": []
    },
    "667658f88db14e6589273cafc184ae6d": {
     "views": []
    },
    "66f1fc3ac565478b95955a34fe12d0d6": {
     "views": []
    },
    "677eb775803849babe5ab6462eea2340": {
     "views": []
    },
    "680a80f033d7495c93756ff62a2079b5": {
     "views": []
    },
    "6833d1ae317247c888b37400cd23705e": {
     "views": []
    },
    "696fe5b141c844ba909616ad87f865d3": {
     "views": []
    },
    "6a1a945ae59e4f6f88996a075754b3d1": {
     "views": []
    },
    "6a2c06ee2bff482381213568d7bcdba8": {
     "views": []
    },
    "6bafb4230def4b5c8cf2d89b62a927ee": {
     "views": []
    },
    "6bb25885b13f49dd86ce5dce30472e93": {
     "views": []
    },
    "6bcc2766ca394a6983b603b2c72bc803": {
     "views": []
    },
    "6bd2beaec10e40b9a40bbecee1bd606a": {
     "views": []
    },
    "6c639595031745f3921e87ef4c3a925d": {
     "views": []
    },
    "6c8c7fcdb9474179977e8cb21cd8a9b2": {
     "views": []
    },
    "6cc8c99732fe47578c6937517a45adbb": {
     "views": []
    },
    "6d5c10ea8f1b424eb2bc3e9b397334e3": {
     "views": []
    },
    "6d732380493243ea949211e2eea8e3c5": {
     "views": []
    },
    "6db98f8be93f440db2dc72c5b366b2a7": {
     "views": []
    },
    "6f03e3db23fc425a9ff7fd6deba78d96": {
     "views": []
    },
    "6f13856965d94333ae0448690d7cc854": {
     "views": []
    },
    "707f7c0684364a42b14d2bd9a30eace9": {
     "views": []
    },
    "708c8541120a41c9a2521a4e0369dcce": {
     "views": []
    },
    "719acc004e564d0f855ede84445c99e2": {
     "views": []
    },
    "72be68a5570340cdacc0f3c9d1fa315a": {
     "views": []
    },
    "736c3c98540a4b6aa8f3b768ee8836b0": {
     "views": []
    },
    "75168f703fd64f7fa0fbac4e24caa773": {
     "views": []
    },
    "766665e439d749249ec531185b4698c7": {
     "views": []
    },
    "76671a8285f5404b849cf2798e22ecf2": {
     "views": []
    },
    "76ca2a29cc6c4d0cb3b6b476b0fe01ac": {
     "views": []
    },
    "7738dfd3d6054456b4406b1bc050678b": {
     "views": []
    },
    "7759a27e40fc4136bb3c64ea19b510f6": {
     "views": []
    },
    "777799a2fd0b4147bad14a595119cd62": {
     "views": []
    },
    "77ad685b3a1a4a54a11b05366f910edc": {
     "views": []
    },
    "789aa95c7fc74b1d8432152e0b4e400b": {
     "views": []
    },
    "78a3da3217284f1e9beb3d804f9b7e1b": {
     "views": []
    },
    "7a9494f10beb4c15bed73070e3946e63": {
     "views": []
    },
    "7a9a5667a6a6465aa95b291694bc36bf": {
     "views": []
    },
    "7ad3bdb25af84a318b51953d8f4dacb4": {
     "views": []
    },
    "7ae33c81afc541709fbaa97c4d64e015": {
     "views": []
    },
    "7b0124fce56b48f1aef8bcc371be31d9": {
     "views": []
    },
    "7b2e9ff461524ef3bf43aa5148d8a43a": {
     "views": []
    },
    "7b73799c8e3d48e0892407b13b406e67": {
     "views": []
    },
    "7c19930a82ec405fa0e3cbd22989fed7": {
     "views": []
    },
    "7d04e92d609b47b49221436a56d4c808": {
     "views": []
    },
    "7d2183b7db6b4509937a8d74572985b3": {
     "views": []
    },
    "7d9937f2aaf44f7393c55fa302511d28": {
     "views": []
    },
    "7ed62c10b38346e79d8365bb63d8403e": {
     "views": []
    },
    "7f3ef879134e474a802a58f6aa256ecb": {
     "views": []
    },
    "7fe6ad68ea3e4d5e80b23bc44ca03d34": {
     "views": []
    },
    "801eb2418ef845c89d69ec554458565a": {
     "views": []
    },
    "803318ae7e5d435fa7ae001d12406138": {
     "views": []
    },
    "8034a33c494045dd8af3a2a51a1c4e6a": {
     "views": []
    },
    "81c0d93438074fca8c31d7c8a62956dc": {
     "views": []
    },
    "8283045e396043fdacabaafcbad95336": {
     "views": []
    },
    "839c6da47d964b74919440c86f27a0dc": {
     "views": []
    },
    "83d80cd5495d420d8654ed0cea2de6d2": {
     "views": []
    },
    "842998e1601b49c984f864d477741718": {
     "views": []
    },
    "8469688a6a104a20be8ea19dc53f2c76": {
     "views": []
    },
    "864320e589d649b58c135a6d3b4156e1": {
     "views": []
    },
    "8661dd22e0634dc595c1ead4229ff898": {
     "views": []
    },
    "873cbe4d90204860b79d09b943ad0869": {
     "views": []
    },
    "8802ac39360d453b8f8df5bf0e0f80de": {
     "views": []
    },
    "8a2d2d2c564c46dfbbcd83396b00587f": {
     "views": []
    },
    "8b675e8797f943728b756850e36a0e1c": {
     "views": []
    },
    "8b984ba4790645bdb432c795811fb1ff": {
     "views": []
    },
    "8db93d7b4e0d47b98da0fd0f8df0cc37": {
     "views": []
    },
    "8efd260fe116459b867f129447258070": {
     "views": []
    },
    "90cd7a0357bd4c63be6d9377e15207dd": {
     "views": []
    },
    "90ed9484eabd467bbff40008f328ab02": {
     "views": []
    },
    "90fd9cdf45d34ee1bf17897cc3618c19": {
     "views": []
    },
    "9162dfcaa49248e7a12b9cf3ef7ce5a9": {
     "views": []
    },
    "93745fd34dde4d259f4c6d1075826808": {
     "views": []
    },
    "9389c166a39f4ba592cdfc8971deeb92": {
     "views": []
    },
    "93c2404f10e94790a0c87ac7914da41d": {
     "views": []
    },
    "941c88fb62fe4eb5888c28f722862da4": {
     "views": []
    },
    "944820bd7e91425da496af35c4f3a9ec": {
     "views": []
    },
    "95839cb05e16408baa793a960c8c0384": {
     "views": []
    },
    "95d36054966441c1a8e8ae170242b4c0": {
     "views": []
    },
    "97bf5eff97f943e8a64c572972e2f24d": {
     "views": []
    },
    "99aa3a6f46374d84a30197de2929abfd": {
     "views": []
    },
    "9c1eaff25fa043d890a3de967c4b8546": {
     "views": []
    },
    "9c3d97a5e50f43cb92561f080c435f59": {
     "views": []
    },
    "9c5cd86b1e6c4198a64418bcef4b2ab3": {
     "views": []
    },
    "9d8ba531ed194ecd97c42dc0f71472ba": {
     "views": []
    },
    "9dc29fc4182c406fa9403be401a3cb58": {
     "views": []
    },
    "9f0c387bd055453084cb0861c947ea2a": {
     "views": []
    },
    "a108ca7a363e49a094ba17a2d38714f7": {
     "views": []
    },
    "a12f74114a884bb99f7454bc6c99e525": {
     "views": []
    },
    "a246a2d5fd684679ba2b42f757de9806": {
     "views": []
    },
    "a2661486d685406caca70bbef4d3a050": {
     "views": []
    },
    "a273a47c16944cba84f8d0d065699448": {
     "views": []
    },
    "a432208ceed04c45a50e549e8037f9a1": {
     "views": []
    },
    "a5d44a5286be4d42a8fa5cadb7ce3fbe": {
     "views": []
    },
    "a6a515234cef4fcba880697acfcf6ab4": {
     "views": []
    },
    "a7593c7a5652423a9b1dd67397281bb4": {
     "views": []
    },
    "a7660949d3be47089780f6cca7c20666": {
     "views": []
    },
    "a7cd3a3d48a54388965fd022aa501d03": {
     "views": []
    },
    "a7f674cd987d4201b1de3531608a0b7d": {
     "views": []
    },
    "a929f8a40fb4463c874f55b2e1e87418": {
     "views": []
    },
    "a9683e720fe94f31bf02e28b5b1c62b5": {
     "views": []
    },
    "aa40d952f0d5423180221aa3ba5a36bf": {
     "views": []
    },
    "aad0fe6c329a4e889e17b15527303f75": {
     "views": []
    },
    "aafa1b33cd0b4a7298d52ea663cfab86": {
     "views": []
    },
    "abdf24c7304143729a91087d5b41a7e3": {
     "views": []
    },
    "accd5f38cb9c4189988d4d10f6cd5ae6": {
     "views": []
    },
    "ad225bac26194507a87d760dc13f3f66": {
     "views": []
    },
    "ad71e3708a3e40529120018e6f0ad380": {
     "views": []
    },
    "aeb8f8d062ea4955a468c8c482e4ffb1": {
     "views": []
    },
    "aeca349dc1064e4983c83559c7d4d150": {
     "views": []
    },
    "b1100f6f8106468ba9ce14700d9a33bf": {
     "views": []
    },
    "b1119a36560e472682baab5720314dc8": {
     "views": []
    },
    "b2f93cdcf5d94fb78c4f111b66d392c2": {
     "views": []
    },
    "b352c363b6d64751b7a39196c1adc583": {
     "views": []
    },
    "b48dfbc19fa24175a872a3adfb07fc7c": {
     "views": []
    },
    "b5c638cd1f0744d8a3915da51c231458": {
     "views": []
    },
    "ba3ec808e6df4764974a537e7878ad59": {
     "views": []
    },
    "ba8b84c1749e4ed388cba3e436713663": {
     "views": []
    },
    "bc70119e23d84be3984935a674b50e72": {
     "views": []
    },
    "bdbaf2d44261497b89cddaa7ed9a6430": {
     "views": []
    },
    "bdc10ec7367a43b791551eb650ad7100": {
     "views": []
    },
    "bdeae3e8a74f487e9388043e0af46675": {
     "views": []
    },
    "be70cccb48464659ac94f2312f39c407": {
     "views": []
    },
    "beda3aba4c04485da77d2f719b8769d8": {
     "views": []
    },
    "bee32525a61f47a586395b4be26e16e8": {
     "views": []
    },
    "bf89b5b07898498ebc3ceb71596f59dd": {
     "views": []
    },
    "bfa5e8328dbc4685990bd9660b02cfb2": {
     "views": []
    },
    "c0de29641c744d6db279c5ae79ca73ab": {
     "views": []
    },
    "c18e5331379c4d51826e0a4ff3a6db5d": {
     "views": []
    },
    "c1c3fc3659904b179fa9c0c2592cdf5a": {
     "views": []
    },
    "c1db23cc9c8e4ad3830f791cc24e80d1": {
     "views": []
    },
    "c2221489272b42bea1c3762e07cd229d": {
     "views": []
    },
    "c30fc7613f5347f7a27350e91372e73f": {
     "views": []
    },
    "c4127cf8c38242528cce278e71ce2e3f": {
     "views": []
    },
    "c4d2bb1f4ef04292a21be33e2fa773b2": {
     "views": []
    },
    "c4e2b411a6ed47038ec98ce13fcad851": {
     "views": []
    },
    "c502f86130b0432a8db6a1fc4380d49a": {
     "views": []
    },
    "c51780a67cb2428881ba8c3287a3b737": {
     "views": []
    },
    "c520a406dc5a493794d3cc695ffe0167": {
     "views": []
    },
    "c546b1137f59466aa0086fb9487f2964": {
     "views": []
    },
    "c58e13b87a70464587ff6ea1395440e9": {
     "views": []
    },
    "c61b2577cd1c4006a3c010a6f3d0dd77": {
     "views": []
    },
    "c75d033e3b034679b92e936776313627": {
     "views": []
    },
    "c7a66cb9b409415e8309c903f559d146": {
     "views": []
    },
    "c7c571e5645e45f4a51196ed97263481": {
     "views": []
    },
    "c8a6135616de4c8584a98123921a9391": {
     "views": []
    },
    "c8fc5d2269234edc981df5557d766046": {
     "views": []
    },
    "c9650f45fbcd469bafe0a36a2f1083d8": {
     "views": []
    },
    "ca07163c89e841c6a21bdc2b34f78ab8": {
     "views": []
    },
    "caa4cc6a068e458984b6c46dd48c8970": {
     "views": []
    },
    "cb59627c5b414c6fa9660e9148c73fda": {
     "views": []
    },
    "cbf90124d6204474a0c7ff6d871d3e3e": {
     "views": []
    },
    "cd0404659bde448c84c164ff643909a8": {
     "views": []
    },
    "cd6a065d0bc1416e91ba1402d760bf9d": {
     "views": []
    },
    "cdc1a815e1564a8c9fca4d11733adae0": {
     "views": []
    },
    "cdf21a2f852d4178ac37c11334036c38": {
     "views": []
    },
    "cdfd5f62f9574f1588dcbfcd2fe0fa7c": {
     "views": []
    },
    "ce71de96cfa8465885a3cd50d949641c": {
     "views": []
    },
    "ce9e01ce10774764bba48d89be93386f": {
     "views": []
    },
    "cebc5e8d19324ccb88b79aba4517810a": {
     "views": []
    },
    "cecec1ea8d9a47b393418776016ff085": {
     "views": []
    },
    "d0384f3d4c474bd0afff7f028451cc7b": {
     "views": []
    },
    "d0a1d63b01db483598d1029ef8701bcf": {
     "views": []
    },
    "d0a6f309a21c48128b51a6ab9bce52c6": {
     "views": []
    },
    "d13d1f62da744f5ca7a780060b233a18": {
     "views": []
    },
    "d15ec622e5e54c45b6eaede6a7524dab": {
     "views": []
    },
    "d1f18b5ec2754440b097ef9c715e411d": {
     "views": []
    },
    "d22637c48c874137a69fb0a496ee9898": {
     "views": []
    },
    "d269ff1e24f44192bed7de61ed1e239c": {
     "views": []
    },
    "d367028cf6c34050943f8657e153ae83": {
     "views": []
    },
    "d388642d11ae48059d4fcff3c2727070": {
     "views": []
    },
    "d3e57ef7228c4f7789f87ade0e731f4b": {
     "views": []
    },
    "d488316e8a4743c2b2e54790445c679f": {
     "views": []
    },
    "d49dc93dbced4eb4800c2db09a4fa58f": {
     "views": []
    },
    "d51d18b904b8448892f1ae5d2b61e3b4": {
     "views": []
    },
    "d53c9bb0c43d45f9983a907fb2ad0d8d": {
     "views": []
    },
    "d572fc31998d42c4884ce0f33434317c": {
     "views": []
    },
    "d59471a9bb364b06a16839f7f84df6b6": {
     "views": []
    },
    "d5ee3a5234784a77880c91ea2a0cf435": {
     "views": []
    },
    "d66bf6bd69ca45148eff0c875eee8965": {
     "views": []
    },
    "d6c497030fa845da80a890e36900683f": {
     "views": []
    },
    "d84493f5180f47bbb01654468940c39e": {
     "views": []
    },
    "d89ffe4ca87746a982501957746ce3b7": {
     "views": []
    },
    "d9046adc41734d30b9e3a23b0842c40e": {
     "views": []
    },
    "db364135e1d0439d8a6c95428faf6e06": {
     "views": []
    },
    "db7fc15e58aa4667a26877372463a10f": {
     "views": []
    },
    "dbc9d6544a1048f3b6ae566cfd96cb99": {
     "views": []
    },
    "dbca2102cf814194b195fa24faa84a9c": {
     "views": []
    },
    "dbe92f3be4414e0cb1ca4729f8ef858f": {
     "views": []
    },
    "dc16b63c95e34895867df46334587703": {
     "views": []
    },
    "dc63b226d4634703a201d8522d53deee": {
     "views": []
    },
    "dd185853e0df442b8dee502c8981cba3": {
     "views": []
    },
    "dd3772c8a31d4aeb9c6baed8f0115301": {
     "views": []
    },
    "ddc14c7cff8742f988746af45739a719": {
     "views": []
    },
    "dde80ce990f942d59932a9f9829c524a": {
     "views": []
    },
    "de95c591c0754685a01c016e1c95da26": {
     "views": []
    },
    "de9e6f6123bd459e8542c6cd3e47acca": {
     "views": []
    },
    "deb19c65d7f7458798ffb220567323a6": {
     "views": []
    },
    "df75571fe36a4ef18fb444f439c21234": {
     "views": []
    },
    "e14fa90adafc4767a8cf5b1fd6b8f29d": {
     "views": []
    },
    "e150356710bc49abb893a6257b026fc0": {
     "views": []
    },
    "e1e652cb4212461286a60e27b28a2f86": {
     "views": []
    },
    "e2f7f9a1b4fa4c03ac69ecf91ad5d271": {
     "views": []
    },
    "e389dd65355a490da3ccc209bae5b4e4": {
     "views": []
    },
    "e3aa1c7c2ce347dca88be7fff7292844": {
     "views": []
    },
    "e3ca749e97304ce894c822ff25ea975d": {
     "views": []
    },
    "e416167d526e4d9ca1b36b1dadea2729": {
     "views": []
    },
    "e4872ea7757f4a8b9db337496b026ddb": {
     "views": []
    },
    "e50723aa5ec64551ac1cdbe5dce21c6e": {
     "views": []
    },
    "e50afc33b1754610af79ad843c6fa5d0": {
     "views": []
    },
    "e78a5ec2d802489a83237c7ec6e3ebb6": {
     "views": []
    },
    "e79dc21a37434b8d9f6ae580d139e4a2": {
     "views": []
    },
    "e8cfbcf509d34ecfa6a5e9675336b437": {
     "views": []
    },
    "eac37ada1b804f77b0ec00441e12038d": {
     "views": []
    },
    "eb60a8b18bc74217978384c8736d8d26": {
     "views": []
    },
    "eb61ccc4e5e64b9296e29b408db5ada9": {
     "views": []
    },
    "ebed257f788a47588118bd1d40aeb760": {
     "views": []
    },
    "ebf040ae2c75412397c93eb0b2002d06": {
     "views": []
    },
    "ec0ed4899f2c498181368be74b3c4b54": {
     "views": []
    },
    "ec9367caa00548fbbe1c2e059114bfa7": {
     "views": []
    },
    "ec9654e12a554c50aa7ea448e7a5e4c8": {
     "views": []
    },
    "ecafdb7e110b4df2a69d43915de53862": {
     "views": []
    },
    "ed5b056a93fe4b8b93550b533ff6c34e": {
     "views": []
    },
    "edc2c8ad851c4484b170e9382e55cc53": {
     "views": []
    },
    "eeb5b6970834458fb3fcf2789806920d": {
     "views": []
    },
    "eebd3ee68fee4256809529f0d2398182": {
     "views": []
    },
    "efc0b498fec94b83b683b31d75bc22fb": {
     "views": []
    },
    "f023dfe3e7f6459aa960f23589012b57": {
     "views": []
    },
    "f24082521fe646f5a756363512671029": {
     "views": []
    },
    "f2d33e18942a4d8081dde869c79336d8": {
     "views": []
    },
    "f34daebeb045436e9e7b291329af47f5": {
     "views": []
    },
    "f4573a7123b34dd48d0d94d1043b0965": {
     "views": []
    },
    "f466b7e4d2924aa784a7663e9f1e243c": {
     "views": []
    },
    "f497c12487ec4c71829156d613d95f5f": {
     "views": []
    },
    "f4e6b448cc61402ea2a4e9d552dc473c": {
     "views": []
    },
    "f5e41a256116497ca2411ad4dcedaf22": {
     "views": []
    },
    "f6423016814a42ef911986a8e308ea0a": {
     "views": []
    },
    "f7e9140933ce4b21baf9739629c2e11c": {
     "views": []
    },
    "f89833340b92460db6986b500d42696b": {
     "views": []
    },
    "f93e251d6b6b46468348e3c919ffe83f": {
     "views": [
      {
       "cell": {
        "cell_type": "code",
        "execution_count": 6,
        "metadata": {
         "collapsed": false,
         "trusted": true
        },
        "outputs": [
         {
          "data": {
           "image/png": "iVBORw0KGgoAAAANSUhEUgAAAtQAAAGSCAYAAADDxFYcAAAABHNCSVQICAgIfAhkiAAAAAlwSFlz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\nRETkEP8PHKcxN0eEu74AAAAASUVORK5CYII=\n",
           "text/plain": "<matplotlib.figure.Figure at 0x7f2680152910>"
          },
          "metadata": {},
          "output_type": "display_data"
         }
        ],
        "source": "@interact(mu=(-2.0, 2.0), sigma2=(0.0, 2.0), x_max=(1, 10))\ndef plot_poisson(mu, sigma2, x_max):\n    plot_continuous(stats.norm(mu, sigma2), x_max)\n    plt.title(\"Normal distribution: $ \\mu = %.1f,\\: \\sigma ^2 = %.1f$\" % (mu, sigma2))\n    \n# 以下のように1行でも記述できるが、読みやすさを優先した\n#interact(lambda mu, sigma2, x_max: plot_continuous(stats.norm(mu, sigma2), x_max), mu=(-2.0, 2.0), sigma2=(0.0, 2.0), x_max=(1, 10))"
       },
       "cell_index": 13,
       "root": true
      }
     ]
    },
    "f9648aa62a1d4353a22523fe34727d99": {
     "views": []
    },
    "f991e60c01ce40ddaabe013b4932c4af": {
     "views": []
    },
    "fa844b192dd94a8e81f55b570c2a1b87": {
     "views": []
    },
    "fa9bb990ae71433696f64f1871625996": {
     "views": []
    },
    "fb6134f1a1974a5b9e843aaf046c0eb3": {
     "views": []
    },
    "fc84fa43f477420ba7ffd502e5a8d0af": {
     "views": []
    },
    "fcce80b7764c42919ee598547c4326ea": {
     "views": []
    },
    "fcfbeb2360144c5ca74aa39880ffc7c6": {
     "views": []
    },
    "fd03db2f201e4111bbea005b8ba8e64a": {
     "views": []
    },
    "fd69a77cad37484b9790738612036feb": {
     "views": []
    },
    "fd7f80c51b614c448405cb7910c1670f": {
     "views": []
    },
    "fdc5146ac93147b88a3f274aad72c69d": {
     "views": []
    },
    "fdef250cd20248c9b36e471050105572": {
     "views": []
    },
    "fe336b1596814cdfbf162b6023290a1d": {
     "views": []
    },
    "ff16db2cc5b6448c82ac9af9deb1c761": {
     "views": []
    }
   },
   "version": "1.0.0"
  }
 },
 "nbformat": 4,
 "nbformat_minor": 2
}
